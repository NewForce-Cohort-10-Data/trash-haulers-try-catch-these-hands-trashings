{
 "cells": [
  {
   "cell_type": "code",
   "execution_count": 12,
   "id": "af4f35d9-4322-4d85-982a-9e919473de6f",
   "metadata": {},
   "outputs": [],
   "source": [
    "import pandas as pd\n",
    "import matplotlib.pyplot as plt\n",
    "import pandas as gpd\n",
    "import folium\n",
    "from folium.plugins import MarkerCluster\n",
    "from folium.plugins import FastMarkerCluster"
   ]
  },
  {
   "cell_type": "code",
   "execution_count": 13,
   "id": "11b66144-ce71-4029-9c50-9214880dd8ac",
   "metadata": {},
   "outputs": [
    {
     "name": "stdout",
     "output_type": "stream",
     "text": [
      "<class 'pandas.core.frame.DataFrame'>\n",
      "RangeIndex: 20226 entries, 0 to 20225\n",
      "Data columns (total 11 columns):\n",
      " #   Column            Non-Null Count  Dtype  \n",
      "---  ------            --------------  -----  \n",
      " 0   Request Number    20226 non-null  int64  \n",
      " 1   Date Opened       20226 non-null  object \n",
      " 2   Request           20226 non-null  object \n",
      " 3   Description       20195 non-null  object \n",
      " 4   Incident Address  20217 non-null  object \n",
      " 5   Zip Code          20151 non-null  float64\n",
      " 6   Trash Hauler      19325 non-null  object \n",
      " 7   Trash Route       19279 non-null  object \n",
      " 8   Council District  20177 non-null  float64\n",
      " 9   State Plan X      20198 non-null  float64\n",
      " 10  State Plan Y      20198 non-null  float64\n",
      "dtypes: float64(4), int64(1), object(6)\n",
      "memory usage: 1.7+ MB\n"
     ]
    }
   ],
   "source": [
    "trash_df = pd.read_csv('../data/trash_hauler_report.csv')\n",
    "trash_df.info()"
   ]
  },
  {
   "cell_type": "code",
   "execution_count": 19,
   "id": "97b17aba-abcb-4f52-8b08-db530d16b476",
   "metadata": {},
   "outputs": [
    {
     "name": "stdout",
     "output_type": "stream",
     "text": [
      "2068\n"
     ]
    },
    {
     "data": {
      "text/html": [
       "<div>\n",
       "<style scoped>\n",
       "    .dataframe tbody tr th:only-of-type {\n",
       "        vertical-align: middle;\n",
       "    }\n",
       "\n",
       "    .dataframe tbody tr th {\n",
       "        vertical-align: top;\n",
       "    }\n",
       "\n",
       "    .dataframe thead th {\n",
       "        text-align: right;\n",
       "    }\n",
       "</style>\n",
       "<table border=\"1\" class=\"dataframe\">\n",
       "  <thead>\n",
       "    <tr style=\"text-align: right;\">\n",
       "      <th></th>\n",
       "      <th>Request Number</th>\n",
       "      <th>Date Opened</th>\n",
       "      <th>Request</th>\n",
       "      <th>Description</th>\n",
       "      <th>Incident Address</th>\n",
       "      <th>Zip Code</th>\n",
       "      <th>Trash Hauler</th>\n",
       "      <th>Trash Route</th>\n",
       "      <th>Council District</th>\n",
       "      <th>State Plan X</th>\n",
       "      <th>State Plan Y</th>\n",
       "    </tr>\n",
       "  </thead>\n",
       "  <tbody>\n",
       "    <tr>\n",
       "      <th>0</th>\n",
       "      <td>25270</td>\n",
       "      <td>11/01/17</td>\n",
       "      <td>Trash - Backdoor</td>\n",
       "      <td>house with the wheel chair ramp, they share dr...</td>\n",
       "      <td>3817 Crouch Dr</td>\n",
       "      <td>37207.0</td>\n",
       "      <td>RED RIVER</td>\n",
       "      <td>3205</td>\n",
       "      <td>2.0</td>\n",
       "      <td>1.727970e+06</td>\n",
       "      <td>686779.478089</td>\n",
       "    </tr>\n",
       "    <tr>\n",
       "      <th>1</th>\n",
       "      <td>25274</td>\n",
       "      <td>11/01/17</td>\n",
       "      <td>Trash - Curbside/Alley Missed Pickup</td>\n",
       "      <td>Curb/Trash miss Tuesday.</td>\n",
       "      <td>4028 Clarksville Pike</td>\n",
       "      <td>37218.0</td>\n",
       "      <td>RED RIVER</td>\n",
       "      <td>4202</td>\n",
       "      <td>1.0</td>\n",
       "      <td>1.721259e+06</td>\n",
       "      <td>685444.799565</td>\n",
       "    </tr>\n",
       "    <tr>\n",
       "      <th>2</th>\n",
       "      <td>25276</td>\n",
       "      <td>11/01/17</td>\n",
       "      <td>Trash - Curbside/Alley Missed Pickup</td>\n",
       "      <td>Curb/trash miss Tuesday.</td>\n",
       "      <td>6528 Thunderbird Dr</td>\n",
       "      <td>37209.0</td>\n",
       "      <td>RED RIVER</td>\n",
       "      <td>4205</td>\n",
       "      <td>20.0</td>\n",
       "      <td>1.707027e+06</td>\n",
       "      <td>659887.471571</td>\n",
       "    </tr>\n",
       "    <tr>\n",
       "      <th>3</th>\n",
       "      <td>25307</td>\n",
       "      <td>11/01/17</td>\n",
       "      <td>Trash - Curbside/Alley Missed Pickup</td>\n",
       "      <td>missed</td>\n",
       "      <td>2603 old matthews rd</td>\n",
       "      <td>37207.0</td>\n",
       "      <td>WASTE IND</td>\n",
       "      <td>2206</td>\n",
       "      <td>2.0</td>\n",
       "      <td>1.735692e+06</td>\n",
       "      <td>685027.245923</td>\n",
       "    </tr>\n",
       "    <tr>\n",
       "      <th>4</th>\n",
       "      <td>25312</td>\n",
       "      <td>11/01/17</td>\n",
       "      <td>Trash - Curbside/Alley Missed Pickup</td>\n",
       "      <td>Missed the even side of the road.</td>\n",
       "      <td>604 croley dr</td>\n",
       "      <td>37209.0</td>\n",
       "      <td>RED RIVER</td>\n",
       "      <td>4203</td>\n",
       "      <td>20.0</td>\n",
       "      <td>1.710186e+06</td>\n",
       "      <td>664205.101066</td>\n",
       "    </tr>\n",
       "  </tbody>\n",
       "</table>\n",
       "</div>"
      ],
      "text/plain": [
       "   Request Number Date Opened                              Request   \\\n",
       "0           25270    11/01/17                      Trash - Backdoor   \n",
       "1           25274    11/01/17  Trash - Curbside/Alley Missed Pickup   \n",
       "2           25276    11/01/17  Trash - Curbside/Alley Missed Pickup   \n",
       "3           25307    11/01/17  Trash - Curbside/Alley Missed Pickup   \n",
       "4           25312    11/01/17  Trash - Curbside/Alley Missed Pickup   \n",
       "\n",
       "                                         Description       Incident Address  \\\n",
       "0  house with the wheel chair ramp, they share dr...         3817 Crouch Dr   \n",
       "1                           Curb/Trash miss Tuesday.  4028 Clarksville Pike   \n",
       "2                           Curb/trash miss Tuesday.    6528 Thunderbird Dr   \n",
       "3                                             missed   2603 old matthews rd   \n",
       "4                  Missed the even side of the road.          604 croley dr   \n",
       "\n",
       "   Zip Code Trash Hauler Trash Route  Council District  State Plan X  \\\n",
       "0   37207.0    RED RIVER        3205               2.0  1.727970e+06   \n",
       "1   37218.0    RED RIVER        4202               1.0  1.721259e+06   \n",
       "2   37209.0    RED RIVER        4205              20.0  1.707027e+06   \n",
       "3   37207.0    WASTE IND        2206               2.0  1.735692e+06   \n",
       "4   37209.0    RED RIVER        4203              20.0  1.710186e+06   \n",
       "\n",
       "    State Plan Y  \n",
       "0  686779.478089  \n",
       "1  685444.799565  \n",
       "2  659887.471571  \n",
       "3  685027.245923  \n",
       "4  664205.101066  "
      ]
     },
     "execution_count": 19,
     "metadata": {},
     "output_type": "execute_result"
    }
   ],
   "source": [
    "null_count = trash_df.isnull().sum().sum()\n",
    "print(null_count)\n",
    "\n",
    "trash_df.head()"
   ]
  },
  {
   "cell_type": "raw",
   "id": "88b19410-57d8-40aa-89d9-e909a91c16b0",
   "metadata": {},
   "source": [
    "th_report = gpd.read_file('../data/trash_hauler_report.csv')\n",
    "print(th_report.crs)\n",
    "th_report.head( )"
   ]
  },
  {
   "cell_type": "code",
   "execution_count": null,
   "id": "5be43916-ed3e-4777-9a3e-09682f3e06af",
   "metadata": {},
   "outputs": [],
   "source": []
  }
 ],
 "metadata": {
  "kernelspec": {
   "display_name": "Python 3 (ipykernel)",
   "language": "python",
   "name": "python3"
  },
  "language_info": {
   "codemirror_mode": {
    "name": "ipython",
    "version": 3
   },
   "file_extension": ".py",
   "mimetype": "text/x-python",
   "name": "python",
   "nbconvert_exporter": "python",
   "pygments_lexer": "ipython3",
   "version": "3.10.16"
  }
 },
 "nbformat": 4,
 "nbformat_minor": 5
}
